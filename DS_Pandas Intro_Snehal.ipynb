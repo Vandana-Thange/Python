{
 "cells": [
  {
   "cell_type": "code",
   "execution_count": 1,
   "id": "882b3337",
   "metadata": {},
   "outputs": [],
   "source": [
    "import pandas as pd "
   ]
  },
  {
   "cell_type": "markdown",
   "id": "e242d524",
   "metadata": {},
   "source": [
    "df = pd.read_csv( file path either by / or \\\\ slash )"
   ]
  },
  {
   "cell_type": "code",
   "execution_count": 2,
   "id": "38098dcc",
   "metadata": {},
   "outputs": [],
   "source": [
    "df = pd.read_csv(\"Salaries.csv\")             # First upload the file then read it in new df by direct name."
   ]
  },
  {
   "cell_type": "code",
   "execution_count": null,
   "id": "4ded1a31",
   "metadata": {},
   "outputs": [],
   "source": [
    "import warnings\n",
    "warnings.filterwarnings('ignore')                 # To ignore warnings for numeric cal."
   ]
  },
  {
   "cell_type": "code",
   "execution_count": null,
   "id": "a5e1f590",
   "metadata": {},
   "outputs": [],
   "source": [
    "df                                             # View df"
   ]
  },
  {
   "cell_type": "code",
   "execution_count": null,
   "id": "b2b34b10",
   "metadata": {},
   "outputs": [],
   "source": [
    "dir(pd)                                 # Give all fun list for pd"
   ]
  },
  {
   "cell_type": "code",
   "execution_count": null,
   "id": "5cc0e66b",
   "metadata": {},
   "outputs": [],
   "source": [
    "type(df)"
   ]
  },
  {
   "cell_type": "code",
   "execution_count": null,
   "id": "70176ec2",
   "metadata": {},
   "outputs": [],
   "source": [
    "df.dtypes                                     # Give datatypes of all columns"
   ]
  },
  {
   "cell_type": "code",
   "execution_count": null,
   "id": "fa4d2598",
   "metadata": {},
   "outputs": [],
   "source": [
    "df.describe()                             # All basic numeric statistics gives"
   ]
  },
  {
   "cell_type": "code",
   "execution_count": null,
   "id": "d9ad4070",
   "metadata": {},
   "outputs": [],
   "source": [
    "df.info()                            # Give info of df"
   ]
  },
  {
   "cell_type": "code",
   "execution_count": null,
   "id": "8e6db4a0",
   "metadata": {},
   "outputs": [],
   "source": [
    "df.shape                              # Give how many rows and column in df"
   ]
  },
  {
   "cell_type": "code",
   "execution_count": null,
   "id": "422a3065",
   "metadata": {},
   "outputs": [],
   "source": [
    "df.shape[0]              # [0] for rows"
   ]
  },
  {
   "cell_type": "code",
   "execution_count": null,
   "id": "60ed97c4",
   "metadata": {},
   "outputs": [],
   "source": [
    "df.shape[1]                # 1 for col"
   ]
  },
  {
   "cell_type": "code",
   "execution_count": null,
   "id": "ef1bac8c",
   "metadata": {},
   "outputs": [],
   "source": [
    "df.columns                      # Give column names of df"
   ]
  },
  {
   "cell_type": "code",
   "execution_count": null,
   "id": "f111bb6f",
   "metadata": {},
   "outputs": [],
   "source": [
    "df.head()                      # Head for Top 5 default records"
   ]
  },
  {
   "cell_type": "code",
   "execution_count": null,
   "id": "7fe68411",
   "metadata": {},
   "outputs": [],
   "source": [
    "df.head(10)                   # Head for Top 10 default records"
   ]
  },
  {
   "cell_type": "code",
   "execution_count": null,
   "id": "cc82e483",
   "metadata": {},
   "outputs": [],
   "source": [
    "df.head(50).mean()              # Give mean value for each column of Top 50 records"
   ]
  },
  {
   "cell_type": "code",
   "execution_count": null,
   "id": "6a65d227",
   "metadata": {},
   "outputs": [],
   "source": [
    "df['salary'].head(10).mean()            # Give mean of Top 10 salary records"
   ]
  },
  {
   "cell_type": "code",
   "execution_count": null,
   "id": "b659f1e7",
   "metadata": {},
   "outputs": [],
   "source": [
    "df[['salary']].head(10).mean()            # Give mean of Top 10 salary records in tabular format"
   ]
  },
  {
   "cell_type": "code",
   "execution_count": null,
   "id": "332800a0",
   "metadata": {},
   "outputs": [],
   "source": [
    "df.tail()            # Tail for bottom default 5 records"
   ]
  },
  {
   "cell_type": "code",
   "execution_count": null,
   "id": "2b869de0",
   "metadata": {},
   "outputs": [],
   "source": [
    "df.tail(10)            # Tail for bottom default 10 records"
   ]
  },
  {
   "cell_type": "code",
   "execution_count": null,
   "id": "0da0fb9b",
   "metadata": {},
   "outputs": [],
   "source": [
    "df.max()                      # Give max value of each column"
   ]
  },
  {
   "cell_type": "code",
   "execution_count": null,
   "id": "db6c2a8d",
   "metadata": {},
   "outputs": [],
   "source": [
    "df.min()                         # Give min value of each column"
   ]
  },
  {
   "cell_type": "code",
   "execution_count": null,
   "id": "7ef0d8fa",
   "metadata": {},
   "outputs": [],
   "source": [
    "df.mean()"
   ]
  },
  {
   "cell_type": "code",
   "execution_count": null,
   "id": "d4769435",
   "metadata": {},
   "outputs": [],
   "source": [
    "df.median()  "
   ]
  },
  {
   "cell_type": "code",
   "execution_count": null,
   "id": "4fe2c9df",
   "metadata": {},
   "outputs": [],
   "source": [
    "df.mode()                                               # nan means not a number"
   ]
  },
  {
   "cell_type": "code",
   "execution_count": null,
   "id": "88a23bed",
   "metadata": {},
   "outputs": [],
   "source": [
    "df.var()"
   ]
  },
  {
   "cell_type": "code",
   "execution_count": null,
   "id": "92bf8e09",
   "metadata": {},
   "outputs": [],
   "source": [
    "df.std()"
   ]
  },
  {
   "cell_type": "code",
   "execution_count": null,
   "id": "6147c533",
   "metadata": {},
   "outputs": [],
   "source": [
    "df.skew() "
   ]
  },
  {
   "cell_type": "code",
   "execution_count": null,
   "id": "c04f3e45",
   "metadata": {},
   "outputs": [],
   "source": [
    "df.kurt()"
   ]
  },
  {
   "cell_type": "code",
   "execution_count": null,
   "id": "8c88ab5d",
   "metadata": {},
   "outputs": [],
   "source": [
    "df.sum()"
   ]
  },
  {
   "cell_type": "code",
   "execution_count": null,
   "id": "39cffb7b",
   "metadata": {},
   "outputs": [],
   "source": [
    "df.salary                                   # If some column like sr.no then error come due to (.) so .[colname]"
   ]
  },
  {
   "cell_type": "code",
   "execution_count": null,
   "id": "f53c8134",
   "metadata": {},
   "outputs": [],
   "source": [
    "df['salary']                          # Give only salary column & values"
   ]
  },
  {
   "cell_type": "code",
   "execution_count": null,
   "id": "386351ab",
   "metadata": {},
   "outputs": [],
   "source": [
    "df[['salary']]                      # Give salary column in tabular format"
   ]
  },
  {
   "cell_type": "code",
   "execution_count": null,
   "id": "e378d69e",
   "metadata": {},
   "outputs": [],
   "source": [
    "df[['salary','phd','service']]            # Give more columns use two braces [[ ]]"
   ]
  },
  {
   "cell_type": "code",
   "execution_count": null,
   "id": "9b475906",
   "metadata": {},
   "outputs": [],
   "source": [
    "newdf=df[['salary','service','phd']]           # Extracts particular column in newdf    \n",
    "newdf"
   ]
  },
  {
   "cell_type": "code",
   "execution_count": null,
   "id": "18ce9de9",
   "metadata": {},
   "outputs": [],
   "source": [
    "newdf=df[['salary','service','phd']].mean()       # Extracts particular column in newdf & give mean value of that column   \n",
    "newdf"
   ]
  },
  {
   "cell_type": "code",
   "execution_count": null,
   "id": "977e73f7",
   "metadata": {},
   "outputs": [],
   "source": [
    "df.salary.describe()                 # Give all basic numeric stat of salary column  but dont use this"
   ]
  },
  {
   "cell_type": "code",
   "execution_count": null,
   "id": "dd02adf4",
   "metadata": {},
   "outputs": [],
   "source": [
    "df['salary'].describe()              # Give all basic numeric stat of salary column "
   ]
  },
  {
   "cell_type": "code",
   "execution_count": null,
   "id": "fcc3755d",
   "metadata": {},
   "outputs": [],
   "source": [
    "df[['salary']].describe()               # Give all basic numeric stat of salary column in tabular format"
   ]
  },
  {
   "cell_type": "code",
   "execution_count": null,
   "id": "814458bb",
   "metadata": {},
   "outputs": [],
   "source": [
    "df[['salary']].mean()               # Give mean of salary in tabular format ( Apply all fun ind=stead of mean)"
   ]
  },
  {
   "cell_type": "code",
   "execution_count": null,
   "id": "4ca1e948",
   "metadata": {},
   "outputs": [],
   "source": [
    "df[['salary']].sum()   "
   ]
  },
  {
   "cell_type": "code",
   "execution_count": null,
   "id": "ef33f5fd",
   "metadata": {},
   "outputs": [],
   "source": [
    "df[df.salary>120000]"
   ]
  },
  {
   "cell_type": "code",
   "execution_count": null,
   "id": "c165131b",
   "metadata": {},
   "outputs": [],
   "source": [
    "df[df['salary']<120000]"
   ]
  },
  {
   "cell_type": "code",
   "execution_count": null,
   "id": "d94981c1",
   "metadata": {},
   "outputs": [],
   "source": [
    "df[df['salary']>120000].shape[0]"
   ]
  },
  {
   "cell_type": "code",
   "execution_count": null,
   "id": "d4c1b10d",
   "metadata": {},
   "outputs": [],
   "source": [
    "df[df.salary>120000].shape[1]"
   ]
  },
  {
   "cell_type": "code",
   "execution_count": null,
   "id": "723aa848",
   "metadata": {},
   "outputs": [],
   "source": [
    "df[df.salary>120000].count()"
   ]
  },
  {
   "cell_type": "code",
   "execution_count": null,
   "id": "24c32896",
   "metadata": {},
   "outputs": [],
   "source": [
    "df[df['salary']<120000].count()"
   ]
  },
  {
   "cell_type": "code",
   "execution_count": null,
   "id": "8fa235ac",
   "metadata": {},
   "outputs": [],
   "source": [
    "df[df['salary']==120000]"
   ]
  },
  {
   "cell_type": "code",
   "execution_count": null,
   "id": "156f417c",
   "metadata": {},
   "outputs": [],
   "source": [
    "df[df['sex']=='Female']"
   ]
  },
  {
   "cell_type": "code",
   "execution_count": null,
   "id": "e3973154",
   "metadata": {},
   "outputs": [],
   "source": [
    "df[  (df['rank']=='Prof') &  (df['discipline']=='A')  & (df[ 'sex']=='Female')    ]"
   ]
  },
  {
   "cell_type": "code",
   "execution_count": null,
   "id": "b6409a84",
   "metadata": {},
   "outputs": [],
   "source": [
    "x=df[(df['sex']=='Female') & (df['salary']<120000)]\n",
    "x"
   ]
  },
  {
   "cell_type": "code",
   "execution_count": null,
   "id": "367872e4",
   "metadata": {},
   "outputs": [],
   "source": [
    "x.shape"
   ]
  },
  {
   "cell_type": "code",
   "execution_count": null,
   "id": "9ce22719",
   "metadata": {},
   "outputs": [],
   "source": [
    "x.describe()"
   ]
  },
  {
   "cell_type": "code",
   "execution_count": null,
   "id": "04008a52",
   "metadata": {},
   "outputs": [],
   "source": [
    "x.sum()"
   ]
  },
  {
   "cell_type": "code",
   "execution_count": null,
   "id": "9778f806",
   "metadata": {},
   "outputs": [],
   "source": [
    "newdf=df[(df['sex']==\"Male\") & (df['salary']>150000)]\n",
    "newdf"
   ]
  },
  {
   "cell_type": "code",
   "execution_count": null,
   "id": "e1eea556",
   "metadata": {},
   "outputs": [],
   "source": [
    "df[df['rank']!='prof'].shape[0]"
   ]
  },
  {
   "cell_type": "code",
   "execution_count": null,
   "id": "65847609",
   "metadata": {},
   "outputs": [],
   "source": [
    "df[(df['service']>15) | (df['salary']>100000)].shape[0]"
   ]
  },
  {
   "cell_type": "code",
   "execution_count": null,
   "id": "19e20df7",
   "metadata": {},
   "outputs": [],
   "source": [
    "df[['salary','phd']].mean()              # Give mean of salary & phd column"
   ]
  },
  {
   "cell_type": "code",
   "execution_count": null,
   "id": "32ddf3c8",
   "metadata": {},
   "outputs": [],
   "source": [
    "df[['salary']].head(10).mean()     # Give mean of Top 10 salary records in tabular format(Apply all fun ind=stead of mean)"
   ]
  },
  {
   "cell_type": "code",
   "execution_count": null,
   "id": "ce312f39",
   "metadata": {},
   "outputs": [],
   "source": [
    "df[['salary','phd']].head(50).mean()   "
   ]
  },
  {
   "cell_type": "code",
   "execution_count": null,
   "id": "8871e0a5",
   "metadata": {},
   "outputs": [],
   "source": [
    "df.salary.quantile(0.25)              # Give quantile value of 25 %"
   ]
  },
  {
   "cell_type": "code",
   "execution_count": null,
   "id": "74016810",
   "metadata": {},
   "outputs": [],
   "source": [
    "df['salary'].quantile(0.50)              # Give quantile value of 25 %"
   ]
  },
  {
   "cell_type": "code",
   "execution_count": null,
   "id": "56eaf667",
   "metadata": {},
   "outputs": [],
   "source": [
    "df[['salary']].quantile(0.75)            # Give quantile value of 25 % in tabular format"
   ]
  },
  {
   "cell_type": "code",
   "execution_count": null,
   "id": "fa00ef70",
   "metadata": {},
   "outputs": [],
   "source": [
    "df[['salary']].quantile([0.75,0.20,0.50]) "
   ]
  },
  {
   "cell_type": "code",
   "execution_count": null,
   "id": "d4e5464a",
   "metadata": {},
   "outputs": [],
   "source": [
    "result=df[['salary']]                                   # \n",
    "result"
   ]
  },
  {
   "cell_type": "code",
   "execution_count": null,
   "id": "c4859aff",
   "metadata": {},
   "outputs": [],
   "source": [
    "type(result)"
   ]
  },
  {
   "cell_type": "code",
   "execution_count": null,
   "id": "a9eb7d40",
   "metadata": {},
   "outputs": [],
   "source": [
    "result1=df[['salary','phd']]\n",
    "result1"
   ]
  },
  {
   "cell_type": "code",
   "execution_count": null,
   "id": "9f952dd0",
   "metadata": {},
   "outputs": [],
   "source": [
    "type(result1)"
   ]
  },
  {
   "cell_type": "code",
   "execution_count": null,
   "id": "09dc9f75",
   "metadata": {},
   "outputs": [],
   "source": [
    "df[['salary']].count()                               #  count records of salary "
   ]
  },
  {
   "cell_type": "code",
   "execution_count": null,
   "id": "ef3b694f",
   "metadata": {},
   "outputs": [],
   "source": [
    "df['rank'].count()                                    #  count records of rank"
   ]
  },
  {
   "cell_type": "code",
   "execution_count": null,
   "id": "d567a522",
   "metadata": {},
   "outputs": [],
   "source": [
    "df['rank'].value_counts()                         # Categorical count of rank"
   ]
  },
  {
   "cell_type": "code",
   "execution_count": null,
   "id": "c66b04b8",
   "metadata": {},
   "outputs": [],
   "source": [
    "df['discipline'].count() "
   ]
  },
  {
   "cell_type": "code",
   "execution_count": null,
   "id": "31ebe97e",
   "metadata": {},
   "outputs": [],
   "source": [
    "df['discipline'].value_counts()               # Give unique category & value of decipline "
   ]
  },
  {
   "cell_type": "code",
   "execution_count": null,
   "id": "6fcd25c3",
   "metadata": {},
   "outputs": [],
   "source": [
    "df.groupby(['discipline']).count()"
   ]
  },
  {
   "cell_type": "code",
   "execution_count": null,
   "id": "e3591878",
   "metadata": {},
   "outputs": [],
   "source": [
    "df.groupby(['discipline','rank']).count()"
   ]
  },
  {
   "cell_type": "code",
   "execution_count": null,
   "id": "cf4892cb",
   "metadata": {},
   "outputs": [],
   "source": [
    "df.groupby(['discipline','rank','sex']).count()"
   ]
  },
  {
   "cell_type": "code",
   "execution_count": 4,
   "id": "674c6998",
   "metadata": {},
   "outputs": [
    {
     "data": {
      "text/html": [
       "<div>\n",
       "<style scoped>\n",
       "    .dataframe tbody tr th:only-of-type {\n",
       "        vertical-align: middle;\n",
       "    }\n",
       "\n",
       "    .dataframe tbody tr th {\n",
       "        vertical-align: top;\n",
       "    }\n",
       "\n",
       "    .dataframe thead th {\n",
       "        text-align: right;\n",
       "    }\n",
       "</style>\n",
       "<table border=\"1\" class=\"dataframe\">\n",
       "  <thead>\n",
       "    <tr style=\"text-align: right;\">\n",
       "      <th></th>\n",
       "      <th></th>\n",
       "      <th></th>\n",
       "      <th>phd</th>\n",
       "      <th>service</th>\n",
       "      <th>salary</th>\n",
       "    </tr>\n",
       "    <tr>\n",
       "      <th>discipline</th>\n",
       "      <th>rank</th>\n",
       "      <th>sex</th>\n",
       "      <th></th>\n",
       "      <th></th>\n",
       "      <th></th>\n",
       "    </tr>\n",
       "  </thead>\n",
       "  <tbody>\n",
       "    <tr>\n",
       "      <th rowspan=\"6\" valign=\"top\">A</th>\n",
       "      <th rowspan=\"2\" valign=\"top\">AssocProf</th>\n",
       "      <th>Female</th>\n",
       "      <td>18.500000</td>\n",
       "      <td>15.500000</td>\n",
       "      <td>72128.500000</td>\n",
       "    </tr>\n",
       "    <tr>\n",
       "      <th>Male</th>\n",
       "      <td>20.000000</td>\n",
       "      <td>17.000000</td>\n",
       "      <td>81285.000000</td>\n",
       "    </tr>\n",
       "    <tr>\n",
       "      <th rowspan=\"2\" valign=\"top\">AsstProf</th>\n",
       "      <th>Female</th>\n",
       "      <td>4.833333</td>\n",
       "      <td>2.500000</td>\n",
       "      <td>72933.333333</td>\n",
       "    </tr>\n",
       "    <tr>\n",
       "      <th>Male</th>\n",
       "      <td>3.000000</td>\n",
       "      <td>1.000000</td>\n",
       "      <td>79000.000000</td>\n",
       "    </tr>\n",
       "    <tr>\n",
       "      <th rowspan=\"2\" valign=\"top\">Prof</th>\n",
       "      <th>Female</th>\n",
       "      <td>26.500000</td>\n",
       "      <td>16.125000</td>\n",
       "      <td>109631.875000</td>\n",
       "    </tr>\n",
       "    <tr>\n",
       "      <th>Male</th>\n",
       "      <td>28.933333</td>\n",
       "      <td>22.733333</td>\n",
       "      <td>113164.400000</td>\n",
       "    </tr>\n",
       "    <tr>\n",
       "      <th rowspan=\"6\" valign=\"top\">B</th>\n",
       "      <th rowspan=\"2\" valign=\"top\">AssocProf</th>\n",
       "      <th>Female</th>\n",
       "      <td>13.500000</td>\n",
       "      <td>8.833333</td>\n",
       "      <td>99435.666667</td>\n",
       "    </tr>\n",
       "    <tr>\n",
       "      <th>Male</th>\n",
       "      <td>10.500000</td>\n",
       "      <td>7.500000</td>\n",
       "      <td>113404.000000</td>\n",
       "    </tr>\n",
       "    <tr>\n",
       "      <th rowspan=\"2\" valign=\"top\">AsstProf</th>\n",
       "      <th>Female</th>\n",
       "      <td>6.600000</td>\n",
       "      <td>2.600000</td>\n",
       "      <td>84189.800000</td>\n",
       "    </tr>\n",
       "    <tr>\n",
       "      <th>Male</th>\n",
       "      <td>4.666667</td>\n",
       "      <td>2.000000</td>\n",
       "      <td>88224.000000</td>\n",
       "    </tr>\n",
       "    <tr>\n",
       "      <th rowspan=\"2\" valign=\"top\">Prof</th>\n",
       "      <th>Female</th>\n",
       "      <td>21.500000</td>\n",
       "      <td>17.900000</td>\n",
       "      <td>131836.200000</td>\n",
       "    </tr>\n",
       "    <tr>\n",
       "      <th>Male</th>\n",
       "      <td>29.538462</td>\n",
       "      <td>25.846154</td>\n",
       "      <td>137989.076923</td>\n",
       "    </tr>\n",
       "  </tbody>\n",
       "</table>\n",
       "</div>"
      ],
      "text/plain": [
       "                                   phd    service         salary\n",
       "discipline rank      sex                                        \n",
       "A          AssocProf Female  18.500000  15.500000   72128.500000\n",
       "                     Male    20.000000  17.000000   81285.000000\n",
       "           AsstProf  Female   4.833333   2.500000   72933.333333\n",
       "                     Male     3.000000   1.000000   79000.000000\n",
       "           Prof      Female  26.500000  16.125000  109631.875000\n",
       "                     Male    28.933333  22.733333  113164.400000\n",
       "B          AssocProf Female  13.500000   8.833333   99435.666667\n",
       "                     Male    10.500000   7.500000  113404.000000\n",
       "           AsstProf  Female   6.600000   2.600000   84189.800000\n",
       "                     Male     4.666667   2.000000   88224.000000\n",
       "           Prof      Female  21.500000  17.900000  131836.200000\n",
       "                     Male    29.538462  25.846154  137989.076923"
      ]
     },
     "execution_count": 4,
     "metadata": {},
     "output_type": "execute_result"
    }
   ],
   "source": [
    "df.groupby(['discipline','rank','sex']).mean()"
   ]
  },
  {
   "cell_type": "code",
   "execution_count": 3,
   "id": "513547a3",
   "metadata": {},
   "outputs": [
    {
     "data": {
      "text/html": [
       "<div>\n",
       "<style scoped>\n",
       "    .dataframe tbody tr th:only-of-type {\n",
       "        vertical-align: middle;\n",
       "    }\n",
       "\n",
       "    .dataframe tbody tr th {\n",
       "        vertical-align: top;\n",
       "    }\n",
       "\n",
       "    .dataframe thead th {\n",
       "        text-align: right;\n",
       "    }\n",
       "</style>\n",
       "<table border=\"1\" class=\"dataframe\">\n",
       "  <thead>\n",
       "    <tr style=\"text-align: right;\">\n",
       "      <th></th>\n",
       "      <th>service</th>\n",
       "      <th>phd</th>\n",
       "    </tr>\n",
       "    <tr>\n",
       "      <th>rank</th>\n",
       "      <th></th>\n",
       "      <th></th>\n",
       "    </tr>\n",
       "  </thead>\n",
       "  <tbody>\n",
       "    <tr>\n",
       "      <th>AssocProf</th>\n",
       "      <td>11.307692</td>\n",
       "      <td>15.076923</td>\n",
       "    </tr>\n",
       "    <tr>\n",
       "      <th>AsstProf</th>\n",
       "      <td>2.210526</td>\n",
       "      <td>5.052632</td>\n",
       "    </tr>\n",
       "    <tr>\n",
       "      <th>Prof</th>\n",
       "      <td>21.413043</td>\n",
       "      <td>27.065217</td>\n",
       "    </tr>\n",
       "  </tbody>\n",
       "</table>\n",
       "</div>"
      ],
      "text/plain": [
       "             service        phd\n",
       "rank                           \n",
       "AssocProf  11.307692  15.076923\n",
       "AsstProf    2.210526   5.052632\n",
       "Prof       21.413043  27.065217"
      ]
     },
     "execution_count": 3,
     "metadata": {},
     "output_type": "execute_result"
    }
   ],
   "source": [
    "df.groupby('rank')[['service','phd']].mean()"
   ]
  },
  {
   "cell_type": "code",
   "execution_count": null,
   "id": "7258f63b",
   "metadata": {},
   "outputs": [],
   "source": [
    "df['sex'].value_counts()               # Give unique category & value of sex "
   ]
  },
  {
   "cell_type": "code",
   "execution_count": null,
   "id": "5f2e788f",
   "metadata": {},
   "outputs": [],
   "source": [
    "df.groupby(['rank']).count()"
   ]
  },
  {
   "cell_type": "code",
   "execution_count": null,
   "id": "befc8c3b",
   "metadata": {},
   "outputs": [],
   "source": [
    "grouped=df.groupby('rank')\n",
    "grouped                                                     # all df grup by rean and saving in grouped"
   ]
  },
  {
   "cell_type": "code",
   "execution_count": null,
   "id": "0c8bd691",
   "metadata": {},
   "outputs": [],
   "source": [
    "grouped.count()"
   ]
  },
  {
   "cell_type": "code",
   "execution_count": null,
   "id": "a727d104",
   "metadata": {},
   "outputs": [],
   "source": [
    "grouped.max()"
   ]
  },
  {
   "cell_type": "code",
   "execution_count": null,
   "id": "41bfe72e",
   "metadata": {},
   "outputs": [],
   "source": [
    "type(grouped)"
   ]
  },
  {
   "cell_type": "code",
   "execution_count": null,
   "id": "70f968f3",
   "metadata": {},
   "outputs": [],
   "source": [
    "for g in grouped:\n",
    "    print(g)"
   ]
  },
  {
   "cell_type": "code",
   "execution_count": null,
   "id": "a5cf12ad",
   "metadata": {},
   "outputs": [],
   "source": [
    "df.groupby(['rank']).mean()                      # grup by rank and give mean of df numeric of all column"
   ]
  },
  {
   "cell_type": "code",
   "execution_count": null,
   "id": "d42b2366",
   "metadata": {},
   "outputs": [],
   "source": [
    "df.groupby('rank')[['salary','phd']].mean()             # grup by rank and give mean of salary and phd"
   ]
  },
  {
   "cell_type": "code",
   "execution_count": null,
   "id": "d87b27bc",
   "metadata": {},
   "outputs": [],
   "source": [
    "df[df.salary>120000].shape[0]                # count of prof having sal > 120000"
   ]
  },
  {
   "cell_type": "code",
   "execution_count": null,
   "id": "a8802220",
   "metadata": {},
   "outputs": [],
   "source": [
    "newdf=df[(df['sex']=='Male') & (df['salary']>150000)]\n",
    "newdf"
   ]
  },
  {
   "cell_type": "code",
   "execution_count": null,
   "id": "9fd364e3",
   "metadata": {},
   "outputs": [],
   "source": [
    "df[df['rank']!='Prof'].shape[0]"
   ]
  },
  {
   "cell_type": "code",
   "execution_count": null,
   "id": "2b424ce8",
   "metadata": {},
   "outputs": [],
   "source": [
    "df[(df['service']>15) | (df['salary']>100000)].shape[0]"
   ]
  },
  {
   "cell_type": "code",
   "execution_count": null,
   "id": "e08ccfb0",
   "metadata": {},
   "outputs": [],
   "source": []
  },
  {
   "cell_type": "markdown",
   "id": "de4670d6",
   "metadata": {},
   "source": [
    "Calculate the basic statistics for the Phd column;\n",
    "\n",
    "Find how many values in the Phd column (use count method);\n",
    "\n",
    "Calculate the average Phd;"
   ]
  },
  {
   "cell_type": "code",
   "execution_count": null,
   "id": "4f022861",
   "metadata": {},
   "outputs": [],
   "source": [
    "df['phd'].describe()"
   ]
  },
  {
   "cell_type": "code",
   "execution_count": null,
   "id": "8181fe76",
   "metadata": {},
   "outputs": [],
   "source": [
    "df[\"phd\"].count()"
   ]
  },
  {
   "cell_type": "code",
   "execution_count": null,
   "id": "101cf4b1",
   "metadata": {},
   "outputs": [],
   "source": [
    "## iloc  -----> index location "
   ]
  },
  {
   "cell_type": "markdown",
   "id": "3b444a4c",
   "metadata": {},
   "source": [
    "df.iloc[[50]]                  # display 50 th record "
   ]
  },
  {
   "cell_type": "code",
   "execution_count": null,
   "id": "0891630d",
   "metadata": {},
   "outputs": [],
   "source": [
    "df.iloc[:,:]                      # give all rows all columns   index location"
   ]
  },
  {
   "cell_type": "code",
   "execution_count": null,
   "id": "1d4c3b26",
   "metadata": {},
   "outputs": [],
   "source": [
    "df.iloc[0:50,]                # Give 1st 50 records of all columns"
   ]
  },
  {
   "cell_type": "code",
   "execution_count": null,
   "id": "25909ba8",
   "metadata": {},
   "outputs": [],
   "source": [
    "df.iloc[1:4, 0:3]    # Give info of 1st to 3rd  rows and 1st 3 columns"
   ]
  },
  {
   "cell_type": "code",
   "execution_count": null,
   "id": "bc200a4d",
   "metadata": {},
   "outputs": [],
   "source": [
    "df.iloc[0:10,0:3]             # Give info of 1st 10 rows and 1st 3 columns"
   ]
  },
  {
   "cell_type": "code",
   "execution_count": null,
   "id": "ca10b6d5",
   "metadata": {},
   "outputs": [],
   "source": [
    "df.iloc[:,4]"
   ]
  },
  {
   "cell_type": "code",
   "execution_count": null,
   "id": "bb048187",
   "metadata": {},
   "outputs": [],
   "source": [
    "df.iloc[0:50,[1,3,5]]     # Give 1st to 49 rows and 1,3,5 columns"
   ]
  },
  {
   "cell_type": "code",
   "execution_count": null,
   "id": "f75aa38f",
   "metadata": {},
   "outputs": [],
   "source": [
    "df.iloc[[10,20,22,24],] # only particular rows with all columns"
   ]
  },
  {
   "cell_type": "code",
   "execution_count": null,
   "id": "bc3e4057",
   "metadata": {},
   "outputs": [],
   "source": [
    "df.iloc[::5] # all rows and columns with step value 5"
   ]
  },
  {
   "cell_type": "code",
   "execution_count": null,
   "id": "a396e6dc",
   "metadata": {},
   "outputs": [],
   "source": [
    "df.iloc[10:30:4]"
   ]
  },
  {
   "cell_type": "code",
   "execution_count": null,
   "id": "d162b8fc",
   "metadata": {},
   "outputs": [],
   "source": [
    "df.iloc[::-1] # all records in reverse order"
   ]
  },
  {
   "cell_type": "code",
   "execution_count": null,
   "id": "8b04a7ec",
   "metadata": {},
   "outputs": [],
   "source": [
    "df.loc[[0,1,2],['discipline','rank']]"
   ]
  },
  {
   "cell_type": "code",
   "execution_count": null,
   "id": "ece45388",
   "metadata": {},
   "outputs": [],
   "source": [
    "df.iloc[:,0:3]"
   ]
  },
  {
   "cell_type": "markdown",
   "id": "0f3b573a",
   "metadata": {},
   "source": [
    "### Create new data frame"
   ]
  },
  {
   "cell_type": "code",
   "execution_count": null,
   "id": "01db7905",
   "metadata": {},
   "outputs": [],
   "source": [
    "df_50=df.head(50)\n",
    "print(df_50) "
   ]
  },
  {
   "cell_type": "code",
   "execution_count": null,
   "id": "b57bddb0",
   "metadata": {},
   "outputs": [],
   "source": [
    "df_50.mean()"
   ]
  },
  {
   "cell_type": "code",
   "execution_count": null,
   "id": "f9dc6a78",
   "metadata": {},
   "outputs": [],
   "source": [
    "df.head(50).mean()"
   ]
  },
  {
   "cell_type": "markdown",
   "id": "96001ee2",
   "metadata": {},
   "source": [
    "\n",
    "Aggregation Function in Pandas Aggreation - Computing a summary statistic about each group\n",
    "\n"
   ]
  },
  {
   "cell_type": "markdown",
   "id": "b4ba14f5",
   "metadata": {},
   "source": [
    "Common aggregation functions are:min,max,count,sum,prod,mean,median,mode,mad,std,var"
   ]
  },
  {
   "cell_type": "code",
   "execution_count": null,
   "id": "66351535",
   "metadata": {},
   "outputs": [],
   "source": [
    "# Compute group sums or means\n",
    "# Compute group sizes or counts\n",
    "# agg() or aggregate()  - useful when multiple statistics are computed per column\n",
    "# Here's how to calculate the mean absolute deviation - mad().\n",
    "#Step 1: Calculate the mean.\n",
    "#Step 2: Calculate how far away each data point is from the mean using positive distances. These are called absolute deviations.\n",
    "#Step 3: Add those deviations together.\n",
    "#Step 4: Divide the sum by the number of data points.\n",
    "\n",
    "df[['phd','salary']].agg(['min','mean','max','mad','std'])"
   ]
  },
  {
   "cell_type": "code",
   "execution_count": null,
   "id": "04a0cf05",
   "metadata": {},
   "outputs": [],
   "source": [
    "df[['salary']].agg('skew')"
   ]
  },
  {
   "cell_type": "code",
   "execution_count": null,
   "id": "c966d8e4",
   "metadata": {},
   "outputs": [],
   "source": [
    "df[['salary']].agg('kurt')"
   ]
  },
  {
   "cell_type": "code",
   "execution_count": null,
   "id": "9a2c1215",
   "metadata": {},
   "outputs": [],
   "source": [
    "df.var()"
   ]
  },
  {
   "cell_type": "code",
   "execution_count": null,
   "id": "1798c58c",
   "metadata": {},
   "outputs": [],
   "source": [
    "df.sem() #std error of mean - Standard error i.e.Sigma / square root of n"
   ]
  },
  {
   "cell_type": "code",
   "execution_count": null,
   "id": "742b8bc8",
   "metadata": {},
   "outputs": [],
   "source": []
  },
  {
   "cell_type": "code",
   "execution_count": null,
   "id": "21147e60",
   "metadata": {},
   "outputs": [],
   "source": []
  },
  {
   "cell_type": "code",
   "execution_count": null,
   "id": "94480780",
   "metadata": {},
   "outputs": [],
   "source": []
  }
 ],
 "metadata": {
  "kernelspec": {
   "display_name": "Python 3 (ipykernel)",
   "language": "python",
   "name": "python3"
  },
  "language_info": {
   "codemirror_mode": {
    "name": "ipython",
    "version": 3
   },
   "file_extension": ".py",
   "mimetype": "text/x-python",
   "name": "python",
   "nbconvert_exporter": "python",
   "pygments_lexer": "ipython3",
   "version": "3.9.12"
  }
 },
 "nbformat": 4,
 "nbformat_minor": 5
}
